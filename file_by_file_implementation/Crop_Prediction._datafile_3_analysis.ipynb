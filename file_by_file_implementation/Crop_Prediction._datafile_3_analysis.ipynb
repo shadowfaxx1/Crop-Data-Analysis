{
 "cells": [
  {
   "cell_type": "markdown",
   "metadata": {},
   "source": [
    "# Importing  Libraries"
   ]
  },
  {
   "cell_type": "code",
   "execution_count": 2,
   "metadata": {},
   "outputs": [
    {
     "name": "stdout",
     "output_type": "stream",
     "text": [
      "c:\\Users\\kaifk\\lpth\\.vscode\\data_science_project\\UpSkill-Campus-Internship\\Prediction of Agriculture Crop Production In India\n",
      "['Crop_Prediction._datafile2.ipynb', 'Crop_Prediction._datafile_3.ipynb', 'crop_prediction_datafile1.ipynb', 'crop_prediction_datafile4ipynb.ipynb', 'datafile _4.csv', 'datafile.csv', 'datafile_2.csv', 'datafile_3.csv', 'datafile_5.csv', 'datasets', 'predicted_model.ipynb', 'prediction-of-agriculture-crop-production-in-india.ipynb', 'produce.csv']\n"
     ]
    }
   ],
   "source": [
    "import os\n",
    "print(os.getcwd())  \n",
    "import os\n",
    "files_in_directory = os.listdir()\n",
    "print(files_in_directory)\n"
   ]
  },
  {
   "cell_type": "code",
   "execution_count": 3,
   "metadata": {},
   "outputs": [],
   "source": [
    "import pandas as pd\n",
    "import numpy as np\n",
    "\n",
    "import matplotlib.pyplot as plt\n",
    "import seaborn as sns\n",
    "\n",
    "import ipywidgets\n",
    "from ipywidgets import interact\n",
    "from ipywidgets import interact_manual\n",
    "from sklearn.metrics import mean_squared_error, r2_score\n",
    "import pandas as pd\n",
    "from sklearn.model_selection import train_test_split\n",
    "from sklearn.linear_model import LinearRegression\n",
    "from sklearn.metrics import mean_squared_error, r2_score\n",
    "import warnings\n",
    "warnings.filterwarnings(\"ignore\")"
   ]
  },
  {
   "cell_type": "markdown",
   "metadata": {},
   "source": [
    "# Importing Dataset"
   ]
  },
  {
   "cell_type": "code",
   "execution_count": 4,
   "metadata": {},
   "outputs": [],
   "source": [
    "df = pd.read_csv(\"datafile_2.csv\")"
   ]
  },
  {
   "cell_type": "code",
   "execution_count": 5,
   "metadata": {},
   "outputs": [
    {
     "data": {
      "text/html": [
       "<div>\n",
       "<style scoped>\n",
       "    .dataframe tbody tr th:only-of-type {\n",
       "        vertical-align: middle;\n",
       "    }\n",
       "\n",
       "    .dataframe tbody tr th {\n",
       "        vertical-align: top;\n",
       "    }\n",
       "\n",
       "    .dataframe thead th {\n",
       "        text-align: right;\n",
       "    }\n",
       "</style>\n",
       "<table border=\"1\" class=\"dataframe\">\n",
       "  <thead>\n",
       "    <tr style=\"text-align: right;\">\n",
       "      <th></th>\n",
       "      <th>Crop</th>\n",
       "      <th>State</th>\n",
       "      <th>Cost of Cultivation (`/Hectare) A2+FL</th>\n",
       "      <th>Cost of Cultivation (`/Hectare) C2</th>\n",
       "      <th>Cost of Production (`/Quintal) C2</th>\n",
       "      <th>Yield (Quintal/ Hectare)</th>\n",
       "    </tr>\n",
       "  </thead>\n",
       "  <tbody>\n",
       "    <tr>\n",
       "      <th>0</th>\n",
       "      <td>ARHAR</td>\n",
       "      <td>Uttar Pradesh</td>\n",
       "      <td>9794.05</td>\n",
       "      <td>23076.74</td>\n",
       "      <td>1941.55</td>\n",
       "      <td>9.83</td>\n",
       "    </tr>\n",
       "    <tr>\n",
       "      <th>1</th>\n",
       "      <td>ARHAR</td>\n",
       "      <td>Karnataka</td>\n",
       "      <td>10593.15</td>\n",
       "      <td>16528.68</td>\n",
       "      <td>2172.46</td>\n",
       "      <td>7.47</td>\n",
       "    </tr>\n",
       "    <tr>\n",
       "      <th>2</th>\n",
       "      <td>ARHAR</td>\n",
       "      <td>Gujarat</td>\n",
       "      <td>13468.82</td>\n",
       "      <td>19551.90</td>\n",
       "      <td>1898.30</td>\n",
       "      <td>9.59</td>\n",
       "    </tr>\n",
       "    <tr>\n",
       "      <th>3</th>\n",
       "      <td>ARHAR</td>\n",
       "      <td>Andhra Pradesh</td>\n",
       "      <td>17051.66</td>\n",
       "      <td>24171.65</td>\n",
       "      <td>3670.54</td>\n",
       "      <td>6.42</td>\n",
       "    </tr>\n",
       "    <tr>\n",
       "      <th>4</th>\n",
       "      <td>ARHAR</td>\n",
       "      <td>Maharashtra</td>\n",
       "      <td>17130.55</td>\n",
       "      <td>25270.26</td>\n",
       "      <td>2775.80</td>\n",
       "      <td>8.72</td>\n",
       "    </tr>\n",
       "    <tr>\n",
       "      <th>5</th>\n",
       "      <td>COTTON</td>\n",
       "      <td>Maharashtra</td>\n",
       "      <td>23711.44</td>\n",
       "      <td>33116.82</td>\n",
       "      <td>2539.47</td>\n",
       "      <td>12.69</td>\n",
       "    </tr>\n",
       "    <tr>\n",
       "      <th>6</th>\n",
       "      <td>COTTON</td>\n",
       "      <td>Punjab</td>\n",
       "      <td>29047.10</td>\n",
       "      <td>50828.83</td>\n",
       "      <td>2003.76</td>\n",
       "      <td>24.39</td>\n",
       "    </tr>\n",
       "    <tr>\n",
       "      <th>7</th>\n",
       "      <td>COTTON</td>\n",
       "      <td>Andhra Pradesh</td>\n",
       "      <td>29140.77</td>\n",
       "      <td>44756.72</td>\n",
       "      <td>2509.99</td>\n",
       "      <td>17.83</td>\n",
       "    </tr>\n",
       "    <tr>\n",
       "      <th>8</th>\n",
       "      <td>COTTON</td>\n",
       "      <td>Gujarat</td>\n",
       "      <td>29616.09</td>\n",
       "      <td>42070.44</td>\n",
       "      <td>2179.26</td>\n",
       "      <td>19.05</td>\n",
       "    </tr>\n",
       "    <tr>\n",
       "      <th>9</th>\n",
       "      <td>COTTON</td>\n",
       "      <td>Haryana</td>\n",
       "      <td>29918.97</td>\n",
       "      <td>44018.18</td>\n",
       "      <td>2127.35</td>\n",
       "      <td>19.90</td>\n",
       "    </tr>\n",
       "    <tr>\n",
       "      <th>10</th>\n",
       "      <td>GRAM</td>\n",
       "      <td>Rajasthan</td>\n",
       "      <td>8552.69</td>\n",
       "      <td>12610.85</td>\n",
       "      <td>1691.66</td>\n",
       "      <td>6.83</td>\n",
       "    </tr>\n",
       "    <tr>\n",
       "      <th>11</th>\n",
       "      <td>GRAM</td>\n",
       "      <td>Madhya Pradesh</td>\n",
       "      <td>9803.89</td>\n",
       "      <td>16873.17</td>\n",
       "      <td>1551.94</td>\n",
       "      <td>10.29</td>\n",
       "    </tr>\n",
       "    <tr>\n",
       "      <th>12</th>\n",
       "      <td>GRAM</td>\n",
       "      <td>Uttar Pradesh</td>\n",
       "      <td>12833.04</td>\n",
       "      <td>21618.43</td>\n",
       "      <td>1882.68</td>\n",
       "      <td>10.93</td>\n",
       "    </tr>\n",
       "    <tr>\n",
       "      <th>13</th>\n",
       "      <td>GRAM</td>\n",
       "      <td>Maharashtra</td>\n",
       "      <td>12985.95</td>\n",
       "      <td>18679.33</td>\n",
       "      <td>2277.68</td>\n",
       "      <td>8.05</td>\n",
       "    </tr>\n",
       "    <tr>\n",
       "      <th>14</th>\n",
       "      <td>GRAM</td>\n",
       "      <td>Andhra Pradesh</td>\n",
       "      <td>14421.98</td>\n",
       "      <td>26762.09</td>\n",
       "      <td>1559.04</td>\n",
       "      <td>16.69</td>\n",
       "    </tr>\n",
       "    <tr>\n",
       "      <th>15</th>\n",
       "      <td>GROUNDNUT</td>\n",
       "      <td>Karnataka</td>\n",
       "      <td>13647.10</td>\n",
       "      <td>17314.20</td>\n",
       "      <td>3484.01</td>\n",
       "      <td>4.71</td>\n",
       "    </tr>\n",
       "    <tr>\n",
       "      <th>16</th>\n",
       "      <td>GROUNDNUT</td>\n",
       "      <td>Andhra Pradesh</td>\n",
       "      <td>21229.01</td>\n",
       "      <td>30434.61</td>\n",
       "      <td>2554.91</td>\n",
       "      <td>11.97</td>\n",
       "    </tr>\n",
       "    <tr>\n",
       "      <th>17</th>\n",
       "      <td>GROUNDNUT</td>\n",
       "      <td>Tamil Nadu</td>\n",
       "      <td>22507.86</td>\n",
       "      <td>30393.66</td>\n",
       "      <td>2358.00</td>\n",
       "      <td>11.98</td>\n",
       "    </tr>\n",
       "    <tr>\n",
       "      <th>18</th>\n",
       "      <td>GROUNDNUT</td>\n",
       "      <td>Gujarat</td>\n",
       "      <td>22951.28</td>\n",
       "      <td>30114.45</td>\n",
       "      <td>1918.92</td>\n",
       "      <td>13.45</td>\n",
       "    </tr>\n",
       "    <tr>\n",
       "      <th>19</th>\n",
       "      <td>GROUNDNUT</td>\n",
       "      <td>Maharashtra</td>\n",
       "      <td>26078.66</td>\n",
       "      <td>32683.46</td>\n",
       "      <td>3207.35</td>\n",
       "      <td>9.33</td>\n",
       "    </tr>\n",
       "    <tr>\n",
       "      <th>20</th>\n",
       "      <td>MAIZE</td>\n",
       "      <td>Bihar</td>\n",
       "      <td>13513.92</td>\n",
       "      <td>19857.70</td>\n",
       "      <td>404.43</td>\n",
       "      <td>42.95</td>\n",
       "    </tr>\n",
       "    <tr>\n",
       "      <th>21</th>\n",
       "      <td>MAIZE</td>\n",
       "      <td>Karnataka</td>\n",
       "      <td>13792.85</td>\n",
       "      <td>20671.54</td>\n",
       "      <td>581.69</td>\n",
       "      <td>31.10</td>\n",
       "    </tr>\n",
       "    <tr>\n",
       "      <th>22</th>\n",
       "      <td>MAIZE</td>\n",
       "      <td>Rajasthan</td>\n",
       "      <td>14421.46</td>\n",
       "      <td>19810.29</td>\n",
       "      <td>658.77</td>\n",
       "      <td>23.56</td>\n",
       "    </tr>\n",
       "    <tr>\n",
       "      <th>23</th>\n",
       "      <td>MAIZE</td>\n",
       "      <td>Uttar Pradesh</td>\n",
       "      <td>15635.43</td>\n",
       "      <td>21045.11</td>\n",
       "      <td>1387.36</td>\n",
       "      <td>13.70</td>\n",
       "    </tr>\n",
       "    <tr>\n",
       "      <th>24</th>\n",
       "      <td>MAIZE</td>\n",
       "      <td>Andhra Pradesh</td>\n",
       "      <td>25687.09</td>\n",
       "      <td>37801.85</td>\n",
       "      <td>840.58</td>\n",
       "      <td>42.68</td>\n",
       "    </tr>\n",
       "    <tr>\n",
       "      <th>25</th>\n",
       "      <td>MOONG</td>\n",
       "      <td>Orissa</td>\n",
       "      <td>5483.54</td>\n",
       "      <td>8266.98</td>\n",
       "      <td>2614.14</td>\n",
       "      <td>3.01</td>\n",
       "    </tr>\n",
       "    <tr>\n",
       "      <th>26</th>\n",
       "      <td>MOONG</td>\n",
       "      <td>Rajasthan</td>\n",
       "      <td>6204.23</td>\n",
       "      <td>9165.59</td>\n",
       "      <td>2068.67</td>\n",
       "      <td>4.05</td>\n",
       "    </tr>\n",
       "    <tr>\n",
       "      <th>27</th>\n",
       "      <td>MOONG</td>\n",
       "      <td>Karnataka</td>\n",
       "      <td>6440.64</td>\n",
       "      <td>7868.64</td>\n",
       "      <td>5777.48</td>\n",
       "      <td>1.32</td>\n",
       "    </tr>\n",
       "    <tr>\n",
       "      <th>28</th>\n",
       "      <td>MOONG</td>\n",
       "      <td>Andhra Pradesh</td>\n",
       "      <td>6684.18</td>\n",
       "      <td>13209.32</td>\n",
       "      <td>2228.97</td>\n",
       "      <td>5.90</td>\n",
       "    </tr>\n",
       "    <tr>\n",
       "      <th>29</th>\n",
       "      <td>MOONG</td>\n",
       "      <td>Maharashtra</td>\n",
       "      <td>10780.76</td>\n",
       "      <td>15371.45</td>\n",
       "      <td>2261.24</td>\n",
       "      <td>6.70</td>\n",
       "    </tr>\n",
       "    <tr>\n",
       "      <th>30</th>\n",
       "      <td>PADDY</td>\n",
       "      <td>Uttar Pradesh</td>\n",
       "      <td>17022.00</td>\n",
       "      <td>28144.50</td>\n",
       "      <td>732.62</td>\n",
       "      <td>36.61</td>\n",
       "    </tr>\n",
       "    <tr>\n",
       "      <th>31</th>\n",
       "      <td>PADDY</td>\n",
       "      <td>Orissa</td>\n",
       "      <td>17478.05</td>\n",
       "      <td>25909.05</td>\n",
       "      <td>715.04</td>\n",
       "      <td>32.42</td>\n",
       "    </tr>\n",
       "    <tr>\n",
       "      <th>32</th>\n",
       "      <td>PADDY</td>\n",
       "      <td>West Bengal</td>\n",
       "      <td>24731.06</td>\n",
       "      <td>33046.12</td>\n",
       "      <td>731.25</td>\n",
       "      <td>39.04</td>\n",
       "    </tr>\n",
       "    <tr>\n",
       "      <th>33</th>\n",
       "      <td>PADDY</td>\n",
       "      <td>Punjab</td>\n",
       "      <td>25154.75</td>\n",
       "      <td>45291.24</td>\n",
       "      <td>669.86</td>\n",
       "      <td>67.41</td>\n",
       "    </tr>\n",
       "    <tr>\n",
       "      <th>34</th>\n",
       "      <td>PADDY</td>\n",
       "      <td>Andhra Pradesh</td>\n",
       "      <td>29664.84</td>\n",
       "      <td>46450.20</td>\n",
       "      <td>789.90</td>\n",
       "      <td>56.00</td>\n",
       "    </tr>\n",
       "    <tr>\n",
       "      <th>35</th>\n",
       "      <td>RAPESEED AND MUSTARD</td>\n",
       "      <td>Madhya Pradesh</td>\n",
       "      <td>8686.43</td>\n",
       "      <td>17705.93</td>\n",
       "      <td>1279.60</td>\n",
       "      <td>12.94</td>\n",
       "    </tr>\n",
       "    <tr>\n",
       "      <th>36</th>\n",
       "      <td>RAPESEED AND MUSTARD</td>\n",
       "      <td>Rajasthan</td>\n",
       "      <td>11385.70</td>\n",
       "      <td>19259.84</td>\n",
       "      <td>1341.29</td>\n",
       "      <td>13.54</td>\n",
       "    </tr>\n",
       "    <tr>\n",
       "      <th>37</th>\n",
       "      <td>RAPESEED AND MUSTARD</td>\n",
       "      <td>Uttar Pradesh</td>\n",
       "      <td>12774.41</td>\n",
       "      <td>22560.30</td>\n",
       "      <td>1595.56</td>\n",
       "      <td>13.57</td>\n",
       "    </tr>\n",
       "    <tr>\n",
       "      <th>38</th>\n",
       "      <td>RAPESEED AND MUSTARD</td>\n",
       "      <td>Gujarat</td>\n",
       "      <td>13740.64</td>\n",
       "      <td>19083.55</td>\n",
       "      <td>1610.40</td>\n",
       "      <td>11.61</td>\n",
       "    </tr>\n",
       "    <tr>\n",
       "      <th>39</th>\n",
       "      <td>RAPESEED AND MUSTARD</td>\n",
       "      <td>Haryana</td>\n",
       "      <td>14715.27</td>\n",
       "      <td>27507.54</td>\n",
       "      <td>1251.12</td>\n",
       "      <td>19.94</td>\n",
       "    </tr>\n",
       "    <tr>\n",
       "      <th>40</th>\n",
       "      <td>SUGARCANE</td>\n",
       "      <td>Uttar Pradesh</td>\n",
       "      <td>24538.32</td>\n",
       "      <td>45239.51</td>\n",
       "      <td>93.64</td>\n",
       "      <td>448.89</td>\n",
       "    </tr>\n",
       "    <tr>\n",
       "      <th>41</th>\n",
       "      <td>SUGARCANE</td>\n",
       "      <td>Karnataka</td>\n",
       "      <td>55655.44</td>\n",
       "      <td>86765.77</td>\n",
       "      <td>86.53</td>\n",
       "      <td>986.21</td>\n",
       "    </tr>\n",
       "    <tr>\n",
       "      <th>42</th>\n",
       "      <td>SUGARCANE</td>\n",
       "      <td>Andhra Pradesh</td>\n",
       "      <td>56621.16</td>\n",
       "      <td>91442.63</td>\n",
       "      <td>119.72</td>\n",
       "      <td>757.92</td>\n",
       "    </tr>\n",
       "    <tr>\n",
       "      <th>43</th>\n",
       "      <td>SUGARCANE</td>\n",
       "      <td>Maharashtra</td>\n",
       "      <td>57673.60</td>\n",
       "      <td>85801.95</td>\n",
       "      <td>107.56</td>\n",
       "      <td>744.01</td>\n",
       "    </tr>\n",
       "    <tr>\n",
       "      <th>44</th>\n",
       "      <td>SUGARCANE</td>\n",
       "      <td>Tamil Nadu</td>\n",
       "      <td>66335.06</td>\n",
       "      <td>89025.27</td>\n",
       "      <td>85.79</td>\n",
       "      <td>1015.45</td>\n",
       "    </tr>\n",
       "    <tr>\n",
       "      <th>45</th>\n",
       "      <td>WHEAT</td>\n",
       "      <td>Madhya Pradesh</td>\n",
       "      <td>12464.40</td>\n",
       "      <td>22489.75</td>\n",
       "      <td>810.25</td>\n",
       "      <td>23.59</td>\n",
       "    </tr>\n",
       "    <tr>\n",
       "      <th>46</th>\n",
       "      <td>WHEAT</td>\n",
       "      <td>Punjab</td>\n",
       "      <td>17945.58</td>\n",
       "      <td>35423.48</td>\n",
       "      <td>804.80</td>\n",
       "      <td>39.83</td>\n",
       "    </tr>\n",
       "    <tr>\n",
       "      <th>47</th>\n",
       "      <td>WHEAT</td>\n",
       "      <td>Uttar Pradesh</td>\n",
       "      <td>18979.38</td>\n",
       "      <td>31902.74</td>\n",
       "      <td>769.84</td>\n",
       "      <td>34.99</td>\n",
       "    </tr>\n",
       "    <tr>\n",
       "      <th>48</th>\n",
       "      <td>WHEAT</td>\n",
       "      <td>Rajasthan</td>\n",
       "      <td>19119.08</td>\n",
       "      <td>29876.36</td>\n",
       "      <td>683.58</td>\n",
       "      <td>37.19</td>\n",
       "    </tr>\n",
       "  </tbody>\n",
       "</table>\n",
       "</div>"
      ],
      "text/plain": [
       "                    Crop           State  \\\n",
       "0                  ARHAR   Uttar Pradesh   \n",
       "1                  ARHAR       Karnataka   \n",
       "2                  ARHAR         Gujarat   \n",
       "3                  ARHAR  Andhra Pradesh   \n",
       "4                  ARHAR     Maharashtra   \n",
       "5                 COTTON     Maharashtra   \n",
       "6                 COTTON          Punjab   \n",
       "7                 COTTON  Andhra Pradesh   \n",
       "8                 COTTON         Gujarat   \n",
       "9                 COTTON         Haryana   \n",
       "10                  GRAM       Rajasthan   \n",
       "11                  GRAM  Madhya Pradesh   \n",
       "12                  GRAM   Uttar Pradesh   \n",
       "13                  GRAM     Maharashtra   \n",
       "14                  GRAM  Andhra Pradesh   \n",
       "15             GROUNDNUT       Karnataka   \n",
       "16             GROUNDNUT  Andhra Pradesh   \n",
       "17             GROUNDNUT      Tamil Nadu   \n",
       "18             GROUNDNUT         Gujarat   \n",
       "19             GROUNDNUT     Maharashtra   \n",
       "20                 MAIZE           Bihar   \n",
       "21                 MAIZE       Karnataka   \n",
       "22                 MAIZE       Rajasthan   \n",
       "23                 MAIZE   Uttar Pradesh   \n",
       "24                 MAIZE  Andhra Pradesh   \n",
       "25                 MOONG          Orissa   \n",
       "26                 MOONG       Rajasthan   \n",
       "27                 MOONG       Karnataka   \n",
       "28                 MOONG  Andhra Pradesh   \n",
       "29                 MOONG     Maharashtra   \n",
       "30                 PADDY   Uttar Pradesh   \n",
       "31                 PADDY          Orissa   \n",
       "32                 PADDY     West Bengal   \n",
       "33                 PADDY          Punjab   \n",
       "34                 PADDY  Andhra Pradesh   \n",
       "35  RAPESEED AND MUSTARD  Madhya Pradesh   \n",
       "36  RAPESEED AND MUSTARD       Rajasthan   \n",
       "37  RAPESEED AND MUSTARD   Uttar Pradesh   \n",
       "38  RAPESEED AND MUSTARD         Gujarat   \n",
       "39  RAPESEED AND MUSTARD         Haryana   \n",
       "40             SUGARCANE   Uttar Pradesh   \n",
       "41             SUGARCANE       Karnataka   \n",
       "42             SUGARCANE  Andhra Pradesh   \n",
       "43             SUGARCANE     Maharashtra   \n",
       "44             SUGARCANE      Tamil Nadu   \n",
       "45                 WHEAT  Madhya Pradesh   \n",
       "46                 WHEAT          Punjab   \n",
       "47                 WHEAT   Uttar Pradesh   \n",
       "48                 WHEAT       Rajasthan   \n",
       "\n",
       "    Cost of Cultivation (`/Hectare) A2+FL  Cost of Cultivation (`/Hectare) C2  \\\n",
       "0                                 9794.05                            23076.74   \n",
       "1                                10593.15                            16528.68   \n",
       "2                                13468.82                            19551.90   \n",
       "3                                17051.66                            24171.65   \n",
       "4                                17130.55                            25270.26   \n",
       "5                                23711.44                            33116.82   \n",
       "6                                29047.10                            50828.83   \n",
       "7                                29140.77                            44756.72   \n",
       "8                                29616.09                            42070.44   \n",
       "9                                29918.97                            44018.18   \n",
       "10                                8552.69                            12610.85   \n",
       "11                                9803.89                            16873.17   \n",
       "12                               12833.04                            21618.43   \n",
       "13                               12985.95                            18679.33   \n",
       "14                               14421.98                            26762.09   \n",
       "15                               13647.10                            17314.20   \n",
       "16                               21229.01                            30434.61   \n",
       "17                               22507.86                            30393.66   \n",
       "18                               22951.28                            30114.45   \n",
       "19                               26078.66                            32683.46   \n",
       "20                               13513.92                            19857.70   \n",
       "21                               13792.85                            20671.54   \n",
       "22                               14421.46                            19810.29   \n",
       "23                               15635.43                            21045.11   \n",
       "24                               25687.09                            37801.85   \n",
       "25                                5483.54                             8266.98   \n",
       "26                                6204.23                             9165.59   \n",
       "27                                6440.64                             7868.64   \n",
       "28                                6684.18                            13209.32   \n",
       "29                               10780.76                            15371.45   \n",
       "30                               17022.00                            28144.50   \n",
       "31                               17478.05                            25909.05   \n",
       "32                               24731.06                            33046.12   \n",
       "33                               25154.75                            45291.24   \n",
       "34                               29664.84                            46450.20   \n",
       "35                                8686.43                            17705.93   \n",
       "36                               11385.70                            19259.84   \n",
       "37                               12774.41                            22560.30   \n",
       "38                               13740.64                            19083.55   \n",
       "39                               14715.27                            27507.54   \n",
       "40                               24538.32                            45239.51   \n",
       "41                               55655.44                            86765.77   \n",
       "42                               56621.16                            91442.63   \n",
       "43                               57673.60                            85801.95   \n",
       "44                               66335.06                            89025.27   \n",
       "45                               12464.40                            22489.75   \n",
       "46                               17945.58                            35423.48   \n",
       "47                               18979.38                            31902.74   \n",
       "48                               19119.08                            29876.36   \n",
       "\n",
       "    Cost of Production (`/Quintal) C2  Yield (Quintal/ Hectare)   \n",
       "0                             1941.55                       9.83  \n",
       "1                             2172.46                       7.47  \n",
       "2                             1898.30                       9.59  \n",
       "3                             3670.54                       6.42  \n",
       "4                             2775.80                       8.72  \n",
       "5                             2539.47                      12.69  \n",
       "6                             2003.76                      24.39  \n",
       "7                             2509.99                      17.83  \n",
       "8                             2179.26                      19.05  \n",
       "9                             2127.35                      19.90  \n",
       "10                            1691.66                       6.83  \n",
       "11                            1551.94                      10.29  \n",
       "12                            1882.68                      10.93  \n",
       "13                            2277.68                       8.05  \n",
       "14                            1559.04                      16.69  \n",
       "15                            3484.01                       4.71  \n",
       "16                            2554.91                      11.97  \n",
       "17                            2358.00                      11.98  \n",
       "18                            1918.92                      13.45  \n",
       "19                            3207.35                       9.33  \n",
       "20                             404.43                      42.95  \n",
       "21                             581.69                      31.10  \n",
       "22                             658.77                      23.56  \n",
       "23                            1387.36                      13.70  \n",
       "24                             840.58                      42.68  \n",
       "25                            2614.14                       3.01  \n",
       "26                            2068.67                       4.05  \n",
       "27                            5777.48                       1.32  \n",
       "28                            2228.97                       5.90  \n",
       "29                            2261.24                       6.70  \n",
       "30                             732.62                      36.61  \n",
       "31                             715.04                      32.42  \n",
       "32                             731.25                      39.04  \n",
       "33                             669.86                      67.41  \n",
       "34                             789.90                      56.00  \n",
       "35                            1279.60                      12.94  \n",
       "36                            1341.29                      13.54  \n",
       "37                            1595.56                      13.57  \n",
       "38                            1610.40                      11.61  \n",
       "39                            1251.12                      19.94  \n",
       "40                              93.64                     448.89  \n",
       "41                              86.53                     986.21  \n",
       "42                             119.72                     757.92  \n",
       "43                             107.56                     744.01  \n",
       "44                              85.79                    1015.45  \n",
       "45                             810.25                      23.59  \n",
       "46                             804.80                      39.83  \n",
       "47                             769.84                      34.99  \n",
       "48                             683.58                      37.19  "
      ]
     },
     "execution_count": 5,
     "metadata": {},
     "output_type": "execute_result"
    }
   ],
   "source": [
    "df"
   ]
  },
  {
   "cell_type": "code",
   "execution_count": null,
   "metadata": {},
   "outputs": [],
   "source": []
  },
  {
   "cell_type": "markdown",
   "metadata": {},
   "source": [
    "# Data Preprocessing and Exploratory Data Analysis"
   ]
  },
  {
   "cell_type": "code",
   "execution_count": 6,
   "metadata": {},
   "outputs": [
    {
     "data": {
      "text/plain": [
       "(49, 6)"
      ]
     },
     "execution_count": 6,
     "metadata": {},
     "output_type": "execute_result"
    }
   ],
   "source": [
    "df.shape"
   ]
  },
  {
   "cell_type": "code",
   "execution_count": 7,
   "metadata": {},
   "outputs": [
    {
     "data": {
      "text/plain": [
       "Index(['Crop', 'State', 'Cost of Cultivation (`/Hectare) A2+FL',\n",
       "       'Cost of Cultivation (`/Hectare) C2',\n",
       "       'Cost of Production (`/Quintal) C2', 'Yield (Quintal/ Hectare) '],\n",
       "      dtype='object')"
      ]
     },
     "execution_count": 7,
     "metadata": {},
     "output_type": "execute_result"
    }
   ],
   "source": [
    "df.columns"
   ]
  },
  {
   "cell_type": "code",
   "execution_count": 8,
   "metadata": {},
   "outputs": [],
   "source": [
    "df.columns = df.colums = df.columns.str.strip() #remove space in column names example ' ratinngs_1'"
   ]
  },
  {
   "cell_type": "code",
   "execution_count": 9,
   "metadata": {},
   "outputs": [
    {
     "data": {
      "text/plain": [
       "Index(['Crop', 'State', 'Cost of Cultivation (`/Hectare) A2+FL',\n",
       "       'Cost of Cultivation (`/Hectare) C2',\n",
       "       'Cost of Production (`/Quintal) C2', 'Yield (Quintal/ Hectare)'],\n",
       "      dtype='object')"
      ]
     },
     "execution_count": 9,
     "metadata": {},
     "output_type": "execute_result"
    }
   ],
   "source": [
    "df.columns"
   ]
  },
  {
   "cell_type": "code",
   "execution_count": 10,
   "metadata": {},
   "outputs": [
    {
     "data": {
      "text/plain": [
       "Crop                                      object\n",
       "State                                     object\n",
       "Cost of Cultivation (`/Hectare) A2+FL    float64\n",
       "Cost of Cultivation (`/Hectare) C2       float64\n",
       "Cost of Production (`/Quintal) C2        float64\n",
       "Yield (Quintal/ Hectare)                 float64\n",
       "dtype: object"
      ]
     },
     "execution_count": 10,
     "metadata": {},
     "output_type": "execute_result"
    }
   ],
   "source": [
    "df.dtypes"
   ]
  },
  {
   "cell_type": "code",
   "execution_count": 11,
   "metadata": {},
   "outputs": [
    {
     "data": {
      "text/plain": [
       "Crop                                     0\n",
       "State                                    0\n",
       "Cost of Cultivation (`/Hectare) A2+FL    0\n",
       "Cost of Cultivation (`/Hectare) C2       0\n",
       "Cost of Production (`/Quintal) C2        0\n",
       "Yield (Quintal/ Hectare)                 0\n",
       "dtype: int64"
      ]
     },
     "execution_count": 11,
     "metadata": {},
     "output_type": "execute_result"
    }
   ],
   "source": [
    "df.isnull().sum()"
   ]
  },
  {
   "cell_type": "code",
   "execution_count": 12,
   "metadata": {},
   "outputs": [
    {
     "data": {
      "text/html": [
       "<div>\n",
       "<style scoped>\n",
       "    .dataframe tbody tr th:only-of-type {\n",
       "        vertical-align: middle;\n",
       "    }\n",
       "\n",
       "    .dataframe tbody tr th {\n",
       "        vertical-align: top;\n",
       "    }\n",
       "\n",
       "    .dataframe thead th {\n",
       "        text-align: right;\n",
       "    }\n",
       "</style>\n",
       "<table border=\"1\" class=\"dataframe\">\n",
       "  <thead>\n",
       "    <tr style=\"text-align: right;\">\n",
       "      <th></th>\n",
       "      <th>Cost of Cultivation (`/Hectare) A2+FL</th>\n",
       "      <th>Cost of Cultivation (`/Hectare) C2</th>\n",
       "      <th>Cost of Production (`/Quintal) C2</th>\n",
       "      <th>Yield (Quintal/ Hectare)</th>\n",
       "    </tr>\n",
       "  </thead>\n",
       "  <tbody>\n",
       "    <tr>\n",
       "      <th>count</th>\n",
       "      <td>49.000000</td>\n",
       "      <td>49.000000</td>\n",
       "      <td>49.000000</td>\n",
       "      <td>49.000000</td>\n",
       "    </tr>\n",
       "    <tr>\n",
       "      <th>mean</th>\n",
       "      <td>20363.537347</td>\n",
       "      <td>31364.666735</td>\n",
       "      <td>1620.537755</td>\n",
       "      <td>98.086735</td>\n",
       "    </tr>\n",
       "    <tr>\n",
       "      <th>std</th>\n",
       "      <td>13561.435306</td>\n",
       "      <td>20095.783569</td>\n",
       "      <td>1104.990472</td>\n",
       "      <td>245.293123</td>\n",
       "    </tr>\n",
       "    <tr>\n",
       "      <th>min</th>\n",
       "      <td>5483.540000</td>\n",
       "      <td>7868.640000</td>\n",
       "      <td>85.790000</td>\n",
       "      <td>1.320000</td>\n",
       "    </tr>\n",
       "    <tr>\n",
       "      <th>25%</th>\n",
       "      <td>12774.410000</td>\n",
       "      <td>19259.840000</td>\n",
       "      <td>732.620000</td>\n",
       "      <td>9.590000</td>\n",
       "    </tr>\n",
       "    <tr>\n",
       "      <th>50%</th>\n",
       "      <td>17022.000000</td>\n",
       "      <td>25909.050000</td>\n",
       "      <td>1595.560000</td>\n",
       "      <td>13.700000</td>\n",
       "    </tr>\n",
       "    <tr>\n",
       "      <th>75%</th>\n",
       "      <td>24731.060000</td>\n",
       "      <td>35423.480000</td>\n",
       "      <td>2228.970000</td>\n",
       "      <td>36.610000</td>\n",
       "    </tr>\n",
       "    <tr>\n",
       "      <th>max</th>\n",
       "      <td>66335.060000</td>\n",
       "      <td>91442.630000</td>\n",
       "      <td>5777.480000</td>\n",
       "      <td>1015.450000</td>\n",
       "    </tr>\n",
       "  </tbody>\n",
       "</table>\n",
       "</div>"
      ],
      "text/plain": [
       "       Cost of Cultivation (`/Hectare) A2+FL  \\\n",
       "count                              49.000000   \n",
       "mean                            20363.537347   \n",
       "std                             13561.435306   \n",
       "min                              5483.540000   \n",
       "25%                             12774.410000   \n",
       "50%                             17022.000000   \n",
       "75%                             24731.060000   \n",
       "max                             66335.060000   \n",
       "\n",
       "       Cost of Cultivation (`/Hectare) C2  Cost of Production (`/Quintal) C2  \\\n",
       "count                           49.000000                          49.000000   \n",
       "mean                         31364.666735                        1620.537755   \n",
       "std                          20095.783569                        1104.990472   \n",
       "min                           7868.640000                          85.790000   \n",
       "25%                          19259.840000                         732.620000   \n",
       "50%                          25909.050000                        1595.560000   \n",
       "75%                          35423.480000                        2228.970000   \n",
       "max                          91442.630000                        5777.480000   \n",
       "\n",
       "       Yield (Quintal/ Hectare)  \n",
       "count                 49.000000  \n",
       "mean                  98.086735  \n",
       "std                  245.293123  \n",
       "min                    1.320000  \n",
       "25%                    9.590000  \n",
       "50%                   13.700000  \n",
       "75%                   36.610000  \n",
       "max                 1015.450000  "
      ]
     },
     "execution_count": 12,
     "metadata": {},
     "output_type": "execute_result"
    }
   ],
   "source": [
    "df.describe()"
   ]
  },
  {
   "cell_type": "code",
   "execution_count": 13,
   "metadata": {},
   "outputs": [
    {
     "data": {
      "text/html": [
       "<div>\n",
       "<style scoped>\n",
       "    .dataframe tbody tr th:only-of-type {\n",
       "        vertical-align: middle;\n",
       "    }\n",
       "\n",
       "    .dataframe tbody tr th {\n",
       "        vertical-align: top;\n",
       "    }\n",
       "\n",
       "    .dataframe thead th {\n",
       "        text-align: right;\n",
       "    }\n",
       "</style>\n",
       "<table border=\"1\" class=\"dataframe\">\n",
       "  <thead>\n",
       "    <tr style=\"text-align: right;\">\n",
       "      <th></th>\n",
       "      <th>Crop</th>\n",
       "      <th>State</th>\n",
       "    </tr>\n",
       "  </thead>\n",
       "  <tbody>\n",
       "    <tr>\n",
       "      <th>count</th>\n",
       "      <td>49</td>\n",
       "      <td>49</td>\n",
       "    </tr>\n",
       "    <tr>\n",
       "      <th>unique</th>\n",
       "      <td>10</td>\n",
       "      <td>13</td>\n",
       "    </tr>\n",
       "    <tr>\n",
       "      <th>top</th>\n",
       "      <td>ARHAR</td>\n",
       "      <td>Andhra Pradesh</td>\n",
       "    </tr>\n",
       "    <tr>\n",
       "      <th>freq</th>\n",
       "      <td>5</td>\n",
       "      <td>8</td>\n",
       "    </tr>\n",
       "  </tbody>\n",
       "</table>\n",
       "</div>"
      ],
      "text/plain": [
       "         Crop           State\n",
       "count      49              49\n",
       "unique     10              13\n",
       "top     ARHAR  Andhra Pradesh\n",
       "freq        5               8"
      ]
     },
     "execution_count": 13,
     "metadata": {},
     "output_type": "execute_result"
    }
   ],
   "source": [
    "df.describe(include = 'object')"
   ]
  },
  {
   "cell_type": "markdown",
   "metadata": {},
   "source": [
    "There are 10 different varieties of crops and 13 states in which these crops are produced"
   ]
  },
  {
   "cell_type": "code",
   "execution_count": 14,
   "metadata": {},
   "outputs": [
    {
     "data": {
      "image/png": "[encoded data removed]",
      "text/plain": [
       "<Figure size 1000x800 with 2 Axes>"
      ]
     },
     "metadata": {},
     "output_type": "display_data"
    }
   ],
   "source": [
    "\n",
    "numeric_data = df.select_dtypes(include=[np.number])\n",
    "plt.figure(figsize=(10, 8))\n",
    "sns.heatmap(numeric_data.corr(), annot=True, cmap='gnuplot2_r', fmt='.2f', linewidths=1)\n",
    "plt.title('Correlation Heatmap', fontsize=16)\n",
    "plt.show()"
   ]
  },
  {
   "cell_type": "code",
   "execution_count": 15,
   "metadata": {},
   "outputs": [
    {
     "data": {
      "text/plain": [
       "Index(['Crop', 'State', 'Cost of Cultivation (`/Hectare) A2+FL',\n",
       "       'Cost of Cultivation (`/Hectare) C2',\n",
       "       'Cost of Production (`/Quintal) C2', 'Yield (Quintal/ Hectare)'],\n",
       "      dtype='object')"
      ]
     },
     "execution_count": 15,
     "metadata": {},
     "output_type": "execute_result"
    }
   ],
   "source": [
    "df.columns"
   ]
  },
  {
   "cell_type": "markdown",
   "metadata": {},
   "source": [
    "We can see that 'Yield (Quintal/ Hectare)' is positively correlated with 'Cost of Cultivation (`/Hectare) A2+FL' and 'Cost of Cultivation (`/Hectare) C2' \n",
    "and negatively correlated with 'Cost of Production (`/Quintal) C2'."
   ]
  },
  {
   "cell_type": "code",
   "execution_count": null,
   "metadata": {},
   "outputs": [
    {
     "data": {
      "text/html": [
       "<div>\n",
       "<style scoped>\n",
       "    .dataframe tbody tr th:only-of-type {\n",
       "        vertical-align: middle;\n",
       "    }\n",
       "\n",
       "    .dataframe tbody tr th {\n",
       "        vertical-align: top;\n",
       "    }\n",
       "\n",
       "    .dataframe thead th {\n",
       "        text-align: right;\n",
       "    }\n",
       "</style>\n",
       "<table border=\"1\" class=\"dataframe\">\n",
       "  <thead>\n",
       "    <tr style=\"text-align: right;\">\n",
       "      <th></th>\n",
       "      <th>Crop</th>\n",
       "      <th>State</th>\n",
       "      <th>Cost of Cultivation (`/Hectare) A2+FL</th>\n",
       "      <th>Cost of Cultivation (`/Hectare) C2</th>\n",
       "      <th>Cost of Production (`/Quintal) C2</th>\n",
       "      <th>Yield (Quintal/ Hectare)</th>\n",
       "    </tr>\n",
       "  </thead>\n",
       "  <tbody>\n",
       "    <tr>\n",
       "      <th>0</th>\n",
       "      <td>ARHAR</td>\n",
       "      <td>Uttar Pradesh</td>\n",
       "      <td>9794.05</td>\n",
       "      <td>23076.74</td>\n",
       "      <td>1941.55</td>\n",
       "      <td>9.83</td>\n",
       "    </tr>\n",
       "    <tr>\n",
       "      <th>1</th>\n",
       "      <td>ARHAR</td>\n",
       "      <td>Karnataka</td>\n",
       "      <td>10593.15</td>\n",
       "      <td>16528.68</td>\n",
       "      <td>2172.46</td>\n",
       "      <td>7.47</td>\n",
       "    </tr>\n",
       "    <tr>\n",
       "      <th>2</th>\n",
       "      <td>ARHAR</td>\n",
       "      <td>Gujarat</td>\n",
       "      <td>13468.82</td>\n",
       "      <td>19551.90</td>\n",
       "      <td>1898.30</td>\n",
       "      <td>9.59</td>\n",
       "    </tr>\n",
       "    <tr>\n",
       "      <th>3</th>\n",
       "      <td>ARHAR</td>\n",
       "      <td>Andhra Pradesh</td>\n",
       "      <td>17051.66</td>\n",
       "      <td>24171.65</td>\n",
       "      <td>3670.54</td>\n",
       "      <td>6.42</td>\n",
       "    </tr>\n",
       "    <tr>\n",
       "      <th>4</th>\n",
       "      <td>ARHAR</td>\n",
       "      <td>Maharashtra</td>\n",
       "      <td>17130.55</td>\n",
       "      <td>25270.26</td>\n",
       "      <td>2775.80</td>\n",
       "      <td>8.72</td>\n",
       "    </tr>\n",
       "  </tbody>\n",
       "</table>\n",
       "</div>"
      ],
      "text/plain": [
       "    Crop           State  Cost of Cultivation (`/Hectare) A2+FL  \\\n",
       "0  ARHAR   Uttar Pradesh                                9794.05   \n",
       "1  ARHAR       Karnataka                               10593.15   \n",
       "2  ARHAR         Gujarat                               13468.82   \n",
       "3  ARHAR  Andhra Pradesh                               17051.66   \n",
       "4  ARHAR     Maharashtra                               17130.55   \n",
       "\n",
       "   Cost of Cultivation (`/Hectare) C2  Cost of Production (`/Quintal) C2  \\\n",
       "0                            23076.74                            1941.55   \n",
       "1                            16528.68                            2172.46   \n",
       "2                            19551.90                            1898.30   \n",
       "3                            24171.65                            3670.54   \n",
       "4                            25270.26                            2775.80   \n",
       "\n",
       "   Yield (Quintal/ Hectare)  \n",
       "0                      9.83  \n",
       "1                      7.47  \n",
       "2                      9.59  \n",
       "3                      6.42  \n",
       "4                      8.72  "
      ]
     },
     "execution_count": 15,
     "metadata": {},
     "output_type": "execute_result"
    }
   ],
   "source": [
    "df.head()"
   ]
  },
  {
   "cell_type": "code",
   "execution_count": null,
   "metadata": {},
   "outputs": [],
   "source": [
    "df_categorical = df[['Crop', 'State']]"
   ]
  },
  {
   "cell_type": "code",
   "execution_count": null,
   "metadata": {},
   "outputs": [
    {
     "data": {
      "text/html": [
       "<div>\n",
       "<style scoped>\n",
       "    .dataframe tbody tr th:only-of-type {\n",
       "        vertical-align: middle;\n",
       "    }\n",
       "\n",
       "    .dataframe tbody tr th {\n",
       "        vertical-align: top;\n",
       "    }\n",
       "\n",
       "    .dataframe thead th {\n",
       "        text-align: right;\n",
       "    }\n",
       "</style>\n",
       "<table border=\"1\" class=\"dataframe\">\n",
       "  <thead>\n",
       "    <tr style=\"text-align: right;\">\n",
       "      <th></th>\n",
       "      <th>Crop</th>\n",
       "      <th>State</th>\n",
       "    </tr>\n",
       "  </thead>\n",
       "  <tbody>\n",
       "    <tr>\n",
       "      <th>0</th>\n",
       "      <td>ARHAR</td>\n",
       "      <td>Uttar Pradesh</td>\n",
       "    </tr>\n",
       "    <tr>\n",
       "      <th>1</th>\n",
       "      <td>ARHAR</td>\n",
       "      <td>Karnataka</td>\n",
       "    </tr>\n",
       "    <tr>\n",
       "      <th>2</th>\n",
       "      <td>ARHAR</td>\n",
       "      <td>Gujarat</td>\n",
       "    </tr>\n",
       "    <tr>\n",
       "      <th>3</th>\n",
       "      <td>ARHAR</td>\n",
       "      <td>Andhra Pradesh</td>\n",
       "    </tr>\n",
       "    <tr>\n",
       "      <th>4</th>\n",
       "      <td>ARHAR</td>\n",
       "      <td>Maharashtra</td>\n",
       "    </tr>\n",
       "  </tbody>\n",
       "</table>\n",
       "</div>"
      ],
      "text/plain": [
       "    Crop           State\n",
       "0  ARHAR   Uttar Pradesh\n",
       "1  ARHAR       Karnataka\n",
       "2  ARHAR         Gujarat\n",
       "3  ARHAR  Andhra Pradesh\n",
       "4  ARHAR     Maharashtra"
      ]
     },
     "execution_count": 17,
     "metadata": {},
     "output_type": "execute_result"
    }
   ],
   "source": [
    "df_categorical.head()"
   ]
  },
  {
   "cell_type": "code",
   "execution_count": null,
   "metadata": {},
   "outputs": [
    {
     "name": "stdout",
     "output_type": "stream",
     "text": [
      "['ARHAR' 'COTTON' 'GRAM' 'GROUNDNUT' 'MAIZE' 'MOONG' 'PADDY'\n",
      " 'RAPESEED AND MUSTARD' 'SUGARCANE' 'WHEAT']\n",
      "['Uttar Pradesh' 'Karnataka' 'Gujarat' 'Andhra Pradesh' 'Maharashtra'\n",
      " 'Punjab' 'Haryana' 'Rajasthan' 'Madhya Pradesh' 'Tamil Nadu' 'Bihar'\n",
      " 'Orissa' 'West Bengal']\n"
     ]
    }
   ],
   "source": [
    "print(df['Crop'].unique())\n",
    "print(df['State'].unique())"
   ]
  },
  {
   "cell_type": "code",
   "execution_count": null,
   "metadata": {},
   "outputs": [
    {
     "data": {
      "text/plain": [
       "Index(['Crop', 'State', 'Cost of Cultivation (`/Hectare) A2+FL',\n",
       "       'Cost of Cultivation (`/Hectare) C2',\n",
       "       'Cost of Production (`/Quintal) C2', 'Yield (Quintal/ Hectare)'],\n",
       "      dtype='object')"
      ]
     },
     "execution_count": 22,
     "metadata": {},
     "output_type": "execute_result"
    }
   ],
   "source": [
    "df.columns"
   ]
  },
  {
   "cell_type": "code",
   "execution_count": null,
   "metadata": {},
   "outputs": [
    {
     "data": {
      "image/png": "[encoded data removed]",
      "text/plain": [
       "<Figure size 432x288 with 1 Axes>"
      ]
     },
     "metadata": {
      "needs_background": "light"
     },
     "output_type": "display_data"
    }
   ],
   "source": [
    "# Plot the data as a bar plot\n",
    "plt.bar(df['Crop'], df['Cost of Cultivation (`/Hectare) A2+FL'], width=0.8)\n",
    "plt.xticks(rotation=90)\n",
    "plt.title('Cost of Cultivation (`/Hectare) A2+FL')\n",
    "plt.show()"
   ]
  },
  {
   "cell_type": "markdown",
   "metadata": {},
   "source": [
    "The 'Cost of Cultivation (`/Hectare) A2+FL' is highest for Sugarcane and lowest for Moong."
   ]
  },
  {
   "cell_type": "code",
   "execution_count": null,
   "metadata": {},
   "outputs": [
    {
     "data": {
      "image/png": "[encoded data removed]",
      "text/plain": [
       "<Figure size 432x288 with 1 Axes>"
      ]
     },
     "metadata": {
      "needs_background": "light"
     },
     "output_type": "display_data"
    }
   ],
   "source": [
    "plt.bar(df['Crop'], df['Cost of Cultivation (`/Hectare) C2'], width=0.8)\n",
    "plt.xticks(rotation=90)\n",
    "plt.title('Cost of Cultivation (`/Hectare) C2')\n",
    "plt.show()"
   ]
  },
  {
   "cell_type": "markdown",
   "metadata": {},
   "source": [
    "From above two charts we can see that the cost of cultivaation for both `/Hectare) A2+FL' and `/Hectare) C2' is highest for Sugacane and lowest for Moong."
   ]
  },
  {
   "cell_type": "code",
   "execution_count": null,
   "metadata": {},
   "outputs": [
    {
     "data": {
      "image/png": "[encoded data removed]",
      "text/plain": [
       "<Figure size 432x288 with 1 Axes>"
      ]
     },
     "metadata": {
      "needs_background": "light"
     },
     "output_type": "display_data"
    }
   ],
   "source": [
    "plt.bar(df['Crop'], df['Cost of Production (`/Quintal) C2'], width=0.8)\n",
    "plt.xticks(rotation=90)\n",
    "plt.title('Cost of Production (`/Quintal) C2')\n",
    "plt.show()"
   ]
  },
  {
   "cell_type": "markdown",
   "metadata": {},
   "source": [
    "The 'Cost of Production (`/Quintal) C2' is highest for Moong and lowest for Sugarcane."
   ]
  },
  {
   "cell_type": "code",
   "execution_count": null,
   "metadata": {},
   "outputs": [
    {
     "data": {
      "image/png": "[encoded data removed]",
      "text/plain": [
       "<Figure size 432x288 with 1 Axes>"
      ]
     },
     "metadata": {
      "needs_background": "light"
     },
     "output_type": "display_data"
    }
   ],
   "source": [
    "plt.bar(df['Crop'], df['Yield (Quintal/ Hectare)'], width=0.8)\n",
    "plt.xticks(rotation=90)\n",
    "plt.title('Yield (Quintal/ Hectare)')\n",
    "plt.show()"
   ]
  },
  {
   "cell_type": "markdown",
   "metadata": {},
   "source": [
    "The 'Yield (Quintal/ Hectare)' is comparitively highest for Sugarcane and lowest for Moong."
   ]
  },
  {
   "cell_type": "code",
   "execution_count": null,
   "metadata": {},
   "outputs": [
    {
     "data": {
      "image/png": "[encoded data removed]",
      "text/plain": [
       "<Figure size 432x288 with 1 Axes>"
      ]
     },
     "metadata": {
      "needs_background": "light"
     },
     "output_type": "display_data"
    }
   ],
   "source": [
    "plt.bar(df['State'], df['Cost of Cultivation (`/Hectare) A2+FL'], width=0.8)\n",
    "plt.xticks(rotation=90)\n",
    "plt.title('Cost of Cultivation (`/Hectare) A2+FL')\n",
    "plt.show()"
   ]
  },
  {
   "cell_type": "markdown",
   "metadata": {},
   "source": [
    "From above chart we can say that the 'Cost of Cultivation (`/Hectare) A2+FL' is highest in Tamil Nadu and lowest in Madhya Pradesh."
   ]
  },
  {
   "cell_type": "code",
   "execution_count": null,
   "metadata": {},
   "outputs": [
    {
     "data": {
      "image/png": "[encoded data removed]",
      "text/plain": [
       "<Figure size 432x288 with 1 Axes>"
      ]
     },
     "metadata": {
      "needs_background": "light"
     },
     "output_type": "display_data"
    }
   ],
   "source": [
    "plt.bar(df['State'], df['Cost of Cultivation (`/Hectare) C2'], width=0.8)\n",
    "plt.xticks(rotation=90)\n",
    "plt.title('Cost of Cultivation (`/Hectare) C2')\n",
    "plt.show()"
   ]
  },
  {
   "cell_type": "markdown",
   "metadata": {},
   "source": [
    "The 'Cost of Cultivation (`/Hectare) C2' is highest in Andhra Pradesh and lowest in Bihar."
   ]
  },
  {
   "cell_type": "code",
   "execution_count": null,
   "metadata": {},
   "outputs": [
    {
     "data": {
      "image/png": "[encoded data removed]",
      "text/plain": [
       "<Figure size 432x288 with 1 Axes>"
      ]
     },
     "metadata": {
      "needs_background": "light"
     },
     "output_type": "display_data"
    }
   ],
   "source": [
    "plt.bar(df['State'], df['Cost of Production (`/Quintal) C2'], width=0.8)\n",
    "plt.xticks(rotation=90)\n",
    "plt.title('Cost of Production (`/Quintal) C2')\n",
    "plt.show()"
   ]
  },
  {
   "cell_type": "markdown",
   "metadata": {},
   "source": [
    "The 'Cost of Production (`/Quintal) C2' is highest in Karnataka and lowest in Bihar."
   ]
  },
  {
   "cell_type": "code",
   "execution_count": null,
   "metadata": {},
   "outputs": [
    {
     "data": {
      "image/png": "[encoded data removed]",
      "text/plain": [
       "<Figure size 432x288 with 1 Axes>"
      ]
     },
     "metadata": {
      "needs_background": "light"
     },
     "output_type": "display_data"
    }
   ],
   "source": [
    "plt.bar(df['State'], df['Yield (Quintal/ Hectare)'], width=0.8)\n",
    "plt.xticks(rotation=90)\n",
    "plt.title('Yield (Quintal/ Hectare)')\n",
    "plt.show()"
   ]
  },
  {
   "cell_type": "markdown",
   "metadata": {},
   "source": [
    "The 'Yield (Quintal/ Hectare)' is highest and almost same in Karnataka and Tamil Nadu and lowest and almost same in Haryana, Gujrat and Madhya Pradesh"
   ]
  },
  {
   "cell_type": "code",
   "execution_count": null,
   "metadata": {},
   "outputs": [],
   "source": []
  },
  {
   "cell_type": "markdown",
   "metadata": {},
   "source": [
    "# Splitting the data into Input and Output Variables"
   ]
  },
  {
   "cell_type": "code",
   "execution_count": null,
   "metadata": {},
   "outputs": [],
   "source": [
    "X = df[['Crop', 'State', 'Cost of Cultivation (`/Hectare) A2+FL', 'Cost of Cultivation (`/Hectare) C2', 'Cost of Production (`/Quintal) C2']]"
   ]
  },
  {
   "cell_type": "code",
   "execution_count": null,
   "metadata": {},
   "outputs": [
    {
     "data": {
      "text/html": [
       "<div>\n",
       "<style scoped>\n",
       "    .dataframe tbody tr th:only-of-type {\n",
       "        vertical-align: middle;\n",
       "    }\n",
       "\n",
       "    .dataframe tbody tr th {\n",
       "        vertical-align: top;\n",
       "    }\n",
       "\n",
       "    .dataframe thead th {\n",
       "        text-align: right;\n",
       "    }\n",
       "</style>\n",
       "<table border=\"1\" class=\"dataframe\">\n",
       "  <thead>\n",
       "    <tr style=\"text-align: right;\">\n",
       "      <th></th>\n",
       "      <th>Cost of Cultivation (`/Hectare) A2+FL</th>\n",
       "      <th>Cost of Cultivation (`/Hectare) C2</th>\n",
       "      <th>Cost of Production (`/Quintal) C2</th>\n",
       "      <th>Crop_COTTON</th>\n",
       "      <th>Crop_GRAM</th>\n",
       "      <th>Crop_GROUNDNUT</th>\n",
       "      <th>Crop_MAIZE</th>\n",
       "      <th>Crop_MOONG</th>\n",
       "      <th>Crop_PADDY</th>\n",
       "      <th>Crop_RAPESEED AND MUSTARD</th>\n",
       "      <th>...</th>\n",
       "      <th>State_Haryana</th>\n",
       "      <th>State_Karnataka</th>\n",
       "      <th>State_Madhya Pradesh</th>\n",
       "      <th>State_Maharashtra</th>\n",
       "      <th>State_Orissa</th>\n",
       "      <th>State_Punjab</th>\n",
       "      <th>State_Rajasthan</th>\n",
       "      <th>State_Tamil Nadu</th>\n",
       "      <th>State_Uttar Pradesh</th>\n",
       "      <th>State_West Bengal</th>\n",
       "    </tr>\n",
       "  </thead>\n",
       "  <tbody>\n",
       "    <tr>\n",
       "      <th>0</th>\n",
       "      <td>9794.05</td>\n",
       "      <td>23076.74</td>\n",
       "      <td>1941.55</td>\n",
       "      <td>0</td>\n",
       "      <td>0</td>\n",
       "      <td>0</td>\n",
       "      <td>0</td>\n",
       "      <td>0</td>\n",
       "      <td>0</td>\n",
       "      <td>0</td>\n",
       "      <td>...</td>\n",
       "      <td>0</td>\n",
       "      <td>0</td>\n",
       "      <td>0</td>\n",
       "      <td>0</td>\n",
       "      <td>0</td>\n",
       "      <td>0</td>\n",
       "      <td>0</td>\n",
       "      <td>0</td>\n",
       "      <td>1</td>\n",
       "      <td>0</td>\n",
       "    </tr>\n",
       "    <tr>\n",
       "      <th>1</th>\n",
       "      <td>10593.15</td>\n",
       "      <td>16528.68</td>\n",
       "      <td>2172.46</td>\n",
       "      <td>0</td>\n",
       "      <td>0</td>\n",
       "      <td>0</td>\n",
       "      <td>0</td>\n",
       "      <td>0</td>\n",
       "      <td>0</td>\n",
       "      <td>0</td>\n",
       "      <td>...</td>\n",
       "      <td>0</td>\n",
       "      <td>1</td>\n",
       "      <td>0</td>\n",
       "      <td>0</td>\n",
       "      <td>0</td>\n",
       "      <td>0</td>\n",
       "      <td>0</td>\n",
       "      <td>0</td>\n",
       "      <td>0</td>\n",
       "      <td>0</td>\n",
       "    </tr>\n",
       "    <tr>\n",
       "      <th>2</th>\n",
       "      <td>13468.82</td>\n",
       "      <td>19551.90</td>\n",
       "      <td>1898.30</td>\n",
       "      <td>0</td>\n",
       "      <td>0</td>\n",
       "      <td>0</td>\n",
       "      <td>0</td>\n",
       "      <td>0</td>\n",
       "      <td>0</td>\n",
       "      <td>0</td>\n",
       "      <td>...</td>\n",
       "      <td>0</td>\n",
       "      <td>0</td>\n",
       "      <td>0</td>\n",
       "      <td>0</td>\n",
       "      <td>0</td>\n",
       "      <td>0</td>\n",
       "      <td>0</td>\n",
       "      <td>0</td>\n",
       "      <td>0</td>\n",
       "      <td>0</td>\n",
       "    </tr>\n",
       "    <tr>\n",
       "      <th>3</th>\n",
       "      <td>17051.66</td>\n",
       "      <td>24171.65</td>\n",
       "      <td>3670.54</td>\n",
       "      <td>0</td>\n",
       "      <td>0</td>\n",
       "      <td>0</td>\n",
       "      <td>0</td>\n",
       "      <td>0</td>\n",
       "      <td>0</td>\n",
       "      <td>0</td>\n",
       "      <td>...</td>\n",
       "      <td>0</td>\n",
       "      <td>0</td>\n",
       "      <td>0</td>\n",
       "      <td>0</td>\n",
       "      <td>0</td>\n",
       "      <td>0</td>\n",
       "      <td>0</td>\n",
       "      <td>0</td>\n",
       "      <td>0</td>\n",
       "      <td>0</td>\n",
       "    </tr>\n",
       "    <tr>\n",
       "      <th>4</th>\n",
       "      <td>17130.55</td>\n",
       "      <td>25270.26</td>\n",
       "      <td>2775.80</td>\n",
       "      <td>0</td>\n",
       "      <td>0</td>\n",
       "      <td>0</td>\n",
       "      <td>0</td>\n",
       "      <td>0</td>\n",
       "      <td>0</td>\n",
       "      <td>0</td>\n",
       "      <td>...</td>\n",
       "      <td>0</td>\n",
       "      <td>0</td>\n",
       "      <td>0</td>\n",
       "      <td>1</td>\n",
       "      <td>0</td>\n",
       "      <td>0</td>\n",
       "      <td>0</td>\n",
       "      <td>0</td>\n",
       "      <td>0</td>\n",
       "      <td>0</td>\n",
       "    </tr>\n",
       "  </tbody>\n",
       "</table>\n",
       "<p>5 rows × 24 columns</p>\n",
       "</div>"
      ],
      "text/plain": [
       "   Cost of Cultivation (`/Hectare) A2+FL  Cost of Cultivation (`/Hectare) C2  \\\n",
       "0                                9794.05                            23076.74   \n",
       "1                               10593.15                            16528.68   \n",
       "2                               13468.82                            19551.90   \n",
       "3                               17051.66                            24171.65   \n",
       "4                               17130.55                            25270.26   \n",
       "\n",
       "   Cost of Production (`/Quintal) C2  Crop_COTTON  Crop_GRAM  Crop_GROUNDNUT  \\\n",
       "0                            1941.55            0          0               0   \n",
       "1                            2172.46            0          0               0   \n",
       "2                            1898.30            0          0               0   \n",
       "3                            3670.54            0          0               0   \n",
       "4                            2775.80            0          0               0   \n",
       "\n",
       "   Crop_MAIZE  Crop_MOONG  Crop_PADDY  Crop_RAPESEED AND MUSTARD  ...  \\\n",
       "0           0           0           0                          0  ...   \n",
       "1           0           0           0                          0  ...   \n",
       "2           0           0           0                          0  ...   \n",
       "3           0           0           0                          0  ...   \n",
       "4           0           0           0                          0  ...   \n",
       "\n",
       "   State_Haryana  State_Karnataka  State_Madhya Pradesh  State_Maharashtra  \\\n",
       "0              0                0                     0                  0   \n",
       "1              0                1                     0                  0   \n",
       "2              0                0                     0                  0   \n",
       "3              0                0                     0                  0   \n",
       "4              0                0                     0                  1   \n",
       "\n",
       "   State_Orissa  State_Punjab  State_Rajasthan  State_Tamil Nadu  \\\n",
       "0             0             0                0                 0   \n",
       "1             0             0                0                 0   \n",
       "2             0             0                0                 0   \n",
       "3             0             0                0                 0   \n",
       "4             0             0                0                 0   \n",
       "\n",
       "   State_Uttar Pradesh  State_West Bengal  \n",
       "0                    1                  0  \n",
       "1                    0                  0  \n",
       "2                    0                  0  \n",
       "3                    0                  0  \n",
       "4                    0                  0  \n",
       "\n",
       "[5 rows x 24 columns]"
      ]
     },
     "execution_count": 39,
     "metadata": {},
     "output_type": "execute_result"
    }
   ],
   "source": [
    "X = pd.get_dummies(data=X, drop_first=True)\n",
    "X.head()"
   ]
  },
  {
   "cell_type": "code",
   "execution_count": null,
   "metadata": {},
   "outputs": [],
   "source": [
    "y = df['Yield (Quintal/ Hectare)']"
   ]
  },
  {
   "cell_type": "code",
   "execution_count": null,
   "metadata": {},
   "outputs": [
    {
     "data": {
      "text/plain": [
       "0    9.83\n",
       "1    7.47\n",
       "2    9.59\n",
       "3    6.42\n",
       "4    8.72\n",
       "Name: Yield (Quintal/ Hectare), dtype: float64"
      ]
     },
     "execution_count": 41,
     "metadata": {},
     "output_type": "execute_result"
    }
   ],
   "source": [
    "y.head()"
   ]
  },
  {
   "cell_type": "code",
   "execution_count": null,
   "metadata": {},
   "outputs": [],
   "source": []
  },
  {
   "cell_type": "markdown",
   "metadata": {},
   "source": [
    "# Splitting the dataset into the Training set and Test set"
   ]
  },
  {
   "cell_type": "code",
   "execution_count": null,
   "metadata": {},
   "outputs": [],
   "source": [
    "from sklearn.model_selection import train_test_split\n",
    "X_train, X_test, y_train, y_test = train_test_split(X, y, test_size = 0.2, random_state = 0)"
   ]
  },
  {
   "cell_type": "code",
   "execution_count": null,
   "metadata": {},
   "outputs": [
    {
     "name": "stdout",
     "output_type": "stream",
     "text": [
      "(39, 24)\n",
      "(10, 24)\n",
      "(39,)\n",
      "(10,)\n"
     ]
    }
   ],
   "source": [
    "print(X_train.shape)\n",
    "print(X_test.shape)\n",
    "print(y_train.shape)\n",
    "print(y_test.shape)"
   ]
  },
  {
   "cell_type": "code",
   "execution_count": null,
   "metadata": {},
   "outputs": [],
   "source": []
  },
  {
   "cell_type": "markdown",
   "metadata": {},
   "source": [
    "# Training the Multiple Linear Regression model on the Training set"
   ]
  },
  {
   "cell_type": "code",
   "execution_count": null,
   "metadata": {},
   "outputs": [
    {
     "data": {
      "text/plain": [
       "LinearRegression()"
      ]
     },
     "execution_count": 45,
     "metadata": {},
     "output_type": "execute_result"
    }
   ],
   "source": [
    "from sklearn.linear_model import LinearRegression\n",
    "regressor = LinearRegression()\n",
    "regressor.fit(X_train, y_train)"
   ]
  },
  {
   "cell_type": "code",
   "execution_count": null,
   "metadata": {},
   "outputs": [
    {
     "name": "stdout",
     "output_type": "stream",
     "text": [
      "-10.438952558334847\n"
     ]
    }
   ],
   "source": [
    "# print the intercept\n",
    "print(regressor.intercept_)"
   ]
  },
  {
   "cell_type": "code",
   "execution_count": null,
   "metadata": {},
   "outputs": [],
   "source": []
  },
  {
   "cell_type": "markdown",
   "metadata": {},
   "source": [
    "# Predicting the Test set results"
   ]
  },
  {
   "cell_type": "code",
   "execution_count": null,
   "metadata": {},
   "outputs": [
    {
     "data": {
      "text/plain": [
       "array([  9.1479417 , -17.0929748 ,  29.21079507,  36.66414072,\n",
       "        91.90812913,  36.00371294,  81.44377674, 641.02873688,\n",
       "        19.95711683,  12.23312106])"
      ]
     },
     "execution_count": 47,
     "metadata": {},
     "output_type": "execute_result"
    }
   ],
   "source": [
    "predictions = regressor.predict(X_test)\n",
    "predictions"
   ]
  },
  {
   "cell_type": "code",
   "execution_count": null,
   "metadata": {},
   "outputs": [
    {
     "data": {
      "text/plain": [
       "<matplotlib.axes._subplots.AxesSubplot at 0x20a29446400>"
      ]
     },
     "execution_count": 48,
     "metadata": {},
     "output_type": "execute_result"
    },
    {
     "data": {
      "image/png": "[encoded data removed]",
      "text/plain": [
       "<Figure size 432x288 with 1 Axes>"
      ]
     },
     "metadata": {
      "needs_background": "light"
     },
     "output_type": "display_data"
    }
   ],
   "source": [
    "sns.regplot(y_test,predictions)"
   ]
  },
  {
   "cell_type": "code",
   "execution_count": null,
   "metadata": {},
   "outputs": [
    {
     "data": {
      "text/plain": [
       "4220.207950902749"
      ]
     },
     "execution_count": 49,
     "metadata": {},
     "output_type": "execute_result"
    }
   ],
   "source": [
    "from sklearn.metrics import mean_squared_error\n",
    "mse = mean_squared_error(y_test, predictions)\n",
    "mse"
   ]
  },
  {
   "cell_type": "code",
   "execution_count": null,
   "metadata": {},
   "outputs": [
    {
     "data": {
      "text/plain": [
       "64.96312762562121"
      ]
     },
     "execution_count": 50,
     "metadata": {},
     "output_type": "execute_result"
    }
   ],
   "source": [
    "import numpy as np\n",
    "import math\n",
    "rmse = math.sqrt(mse)\n",
    "rmse"
   ]
  },
  {
   "cell_type": "code",
   "execution_count": null,
   "metadata": {},
   "outputs": [
    {
     "name": "stdout",
     "output_type": "stream",
     "text": [
      "0.7479775472212424\n"
     ]
    }
   ],
   "source": [
    "from sklearn.metrics import r2_score\n",
    "r2 = r2_score(y_test,predictions)\n",
    "print(r2)"
   ]
  },
  {
   "cell_type": "code",
   "execution_count": null,
   "metadata": {},
   "outputs": [],
   "source": []
  },
  {
   "cell_type": "markdown",
   "metadata": {},
   "source": [
    "# Improving Model Performance Using XGBoost Regression and Cross-Validation Models"
   ]
  },
  {
   "cell_type": "code",
   "execution_count": null,
   "metadata": {},
   "outputs": [],
   "source": [
    "import pandas as pd\n",
    "import numpy as np\n",
    "from numpy import absolute\n",
    "from pandas import read_csv\n",
    "\n",
    "# for data visualisation\n",
    "import matplotlib.pyplot as plt\n",
    "import seaborn as sns\n",
    "\n",
    "#for interactive plots\n",
    "import ipywidgets\n",
    "from ipywidgets import interact\n",
    "from ipywidgets import interact_manual\n",
    "\n",
    "import warnings\n",
    "warnings.filterwarnings(\"ignore\")"
   ]
  },
  {
   "cell_type": "code",
   "execution_count": null,
   "metadata": {},
   "outputs": [],
   "source": [
    "df = pd.read_csv(\"F:\\\\UpSkill Campus Internship\\\\Project4_Ag_Prediction of Agriculture Crop Production In India\\\\datafile_1.csv\", error_bad_lines = False)"
   ]
  },
  {
   "cell_type": "code",
   "execution_count": null,
   "metadata": {},
   "outputs": [],
   "source": [
    "df.columns = df.colums = df.columns.str.strip() #remove space in column names example ' ratinngs_1'"
   ]
  },
  {
   "cell_type": "code",
   "execution_count": null,
   "metadata": {},
   "outputs": [
    {
     "data": {
      "text/html": [
       "<div>\n",
       "<style scoped>\n",
       "    .dataframe tbody tr th:only-of-type {\n",
       "        vertical-align: middle;\n",
       "    }\n",
       "\n",
       "    .dataframe tbody tr th {\n",
       "        vertical-align: top;\n",
       "    }\n",
       "\n",
       "    .dataframe thead th {\n",
       "        text-align: right;\n",
       "    }\n",
       "</style>\n",
       "<table border=\"1\" class=\"dataframe\">\n",
       "  <thead>\n",
       "    <tr style=\"text-align: right;\">\n",
       "      <th></th>\n",
       "      <th>Cost of Cultivation (`/Hectare) A2+FL</th>\n",
       "      <th>Cost of Cultivation (`/Hectare) C2</th>\n",
       "      <th>Cost of Production (`/Quintal) C2</th>\n",
       "      <th>Crop_COTTON</th>\n",
       "      <th>Crop_GRAM</th>\n",
       "      <th>Crop_GROUNDNUT</th>\n",
       "      <th>Crop_MAIZE</th>\n",
       "      <th>Crop_MOONG</th>\n",
       "      <th>Crop_PADDY</th>\n",
       "      <th>Crop_RAPESEED AND MUSTARD</th>\n",
       "      <th>...</th>\n",
       "      <th>State_Haryana</th>\n",
       "      <th>State_Karnataka</th>\n",
       "      <th>State_Madhya Pradesh</th>\n",
       "      <th>State_Maharashtra</th>\n",
       "      <th>State_Orissa</th>\n",
       "      <th>State_Punjab</th>\n",
       "      <th>State_Rajasthan</th>\n",
       "      <th>State_Tamil Nadu</th>\n",
       "      <th>State_Uttar Pradesh</th>\n",
       "      <th>State_West Bengal</th>\n",
       "    </tr>\n",
       "  </thead>\n",
       "  <tbody>\n",
       "    <tr>\n",
       "      <th>0</th>\n",
       "      <td>9794.05</td>\n",
       "      <td>23076.74</td>\n",
       "      <td>1941.55</td>\n",
       "      <td>0</td>\n",
       "      <td>0</td>\n",
       "      <td>0</td>\n",
       "      <td>0</td>\n",
       "      <td>0</td>\n",
       "      <td>0</td>\n",
       "      <td>0</td>\n",
       "      <td>...</td>\n",
       "      <td>0</td>\n",
       "      <td>0</td>\n",
       "      <td>0</td>\n",
       "      <td>0</td>\n",
       "      <td>0</td>\n",
       "      <td>0</td>\n",
       "      <td>0</td>\n",
       "      <td>0</td>\n",
       "      <td>1</td>\n",
       "      <td>0</td>\n",
       "    </tr>\n",
       "    <tr>\n",
       "      <th>1</th>\n",
       "      <td>10593.15</td>\n",
       "      <td>16528.68</td>\n",
       "      <td>2172.46</td>\n",
       "      <td>0</td>\n",
       "      <td>0</td>\n",
       "      <td>0</td>\n",
       "      <td>0</td>\n",
       "      <td>0</td>\n",
       "      <td>0</td>\n",
       "      <td>0</td>\n",
       "      <td>...</td>\n",
       "      <td>0</td>\n",
       "      <td>1</td>\n",
       "      <td>0</td>\n",
       "      <td>0</td>\n",
       "      <td>0</td>\n",
       "      <td>0</td>\n",
       "      <td>0</td>\n",
       "      <td>0</td>\n",
       "      <td>0</td>\n",
       "      <td>0</td>\n",
       "    </tr>\n",
       "    <tr>\n",
       "      <th>2</th>\n",
       "      <td>13468.82</td>\n",
       "      <td>19551.90</td>\n",
       "      <td>1898.30</td>\n",
       "      <td>0</td>\n",
       "      <td>0</td>\n",
       "      <td>0</td>\n",
       "      <td>0</td>\n",
       "      <td>0</td>\n",
       "      <td>0</td>\n",
       "      <td>0</td>\n",
       "      <td>...</td>\n",
       "      <td>0</td>\n",
       "      <td>0</td>\n",
       "      <td>0</td>\n",
       "      <td>0</td>\n",
       "      <td>0</td>\n",
       "      <td>0</td>\n",
       "      <td>0</td>\n",
       "      <td>0</td>\n",
       "      <td>0</td>\n",
       "      <td>0</td>\n",
       "    </tr>\n",
       "    <tr>\n",
       "      <th>3</th>\n",
       "      <td>17051.66</td>\n",
       "      <td>24171.65</td>\n",
       "      <td>3670.54</td>\n",
       "      <td>0</td>\n",
       "      <td>0</td>\n",
       "      <td>0</td>\n",
       "      <td>0</td>\n",
       "      <td>0</td>\n",
       "      <td>0</td>\n",
       "      <td>0</td>\n",
       "      <td>...</td>\n",
       "      <td>0</td>\n",
       "      <td>0</td>\n",
       "      <td>0</td>\n",
       "      <td>0</td>\n",
       "      <td>0</td>\n",
       "      <td>0</td>\n",
       "      <td>0</td>\n",
       "      <td>0</td>\n",
       "      <td>0</td>\n",
       "      <td>0</td>\n",
       "    </tr>\n",
       "    <tr>\n",
       "      <th>4</th>\n",
       "      <td>17130.55</td>\n",
       "      <td>25270.26</td>\n",
       "      <td>2775.80</td>\n",
       "      <td>0</td>\n",
       "      <td>0</td>\n",
       "      <td>0</td>\n",
       "      <td>0</td>\n",
       "      <td>0</td>\n",
       "      <td>0</td>\n",
       "      <td>0</td>\n",
       "      <td>...</td>\n",
       "      <td>0</td>\n",
       "      <td>0</td>\n",
       "      <td>0</td>\n",
       "      <td>1</td>\n",
       "      <td>0</td>\n",
       "      <td>0</td>\n",
       "      <td>0</td>\n",
       "      <td>0</td>\n",
       "      <td>0</td>\n",
       "      <td>0</td>\n",
       "    </tr>\n",
       "  </tbody>\n",
       "</table>\n",
       "<p>5 rows × 24 columns</p>\n",
       "</div>"
      ],
      "text/plain": [
       "   Cost of Cultivation (`/Hectare) A2+FL  Cost of Cultivation (`/Hectare) C2  \\\n",
       "0                                9794.05                            23076.74   \n",
       "1                               10593.15                            16528.68   \n",
       "2                               13468.82                            19551.90   \n",
       "3                               17051.66                            24171.65   \n",
       "4                               17130.55                            25270.26   \n",
       "\n",
       "   Cost of Production (`/Quintal) C2  Crop_COTTON  Crop_GRAM  Crop_GROUNDNUT  \\\n",
       "0                            1941.55            0          0               0   \n",
       "1                            2172.46            0          0               0   \n",
       "2                            1898.30            0          0               0   \n",
       "3                            3670.54            0          0               0   \n",
       "4                            2775.80            0          0               0   \n",
       "\n",
       "   Crop_MAIZE  Crop_MOONG  Crop_PADDY  Crop_RAPESEED AND MUSTARD  ...  \\\n",
       "0           0           0           0                          0  ...   \n",
       "1           0           0           0                          0  ...   \n",
       "2           0           0           0                          0  ...   \n",
       "3           0           0           0                          0  ...   \n",
       "4           0           0           0                          0  ...   \n",
       "\n",
       "   State_Haryana  State_Karnataka  State_Madhya Pradesh  State_Maharashtra  \\\n",
       "0              0                0                     0                  0   \n",
       "1              0                1                     0                  0   \n",
       "2              0                0                     0                  0   \n",
       "3              0                0                     0                  0   \n",
       "4              0                0                     0                  1   \n",
       "\n",
       "   State_Orissa  State_Punjab  State_Rajasthan  State_Tamil Nadu  \\\n",
       "0             0             0                0                 0   \n",
       "1             0             0                0                 0   \n",
       "2             0             0                0                 0   \n",
       "3             0             0                0                 0   \n",
       "4             0             0                0                 0   \n",
       "\n",
       "   State_Uttar Pradesh  State_West Bengal  \n",
       "0                    1                  0  \n",
       "1                    0                  0  \n",
       "2                    0                  0  \n",
       "3                    0                  0  \n",
       "4                    0                  0  \n",
       "\n",
       "[5 rows x 24 columns]"
      ]
     },
     "execution_count": 55,
     "metadata": {},
     "output_type": "execute_result"
    }
   ],
   "source": [
    "X = pd.get_dummies(data=X, drop_first=True)\n",
    "X.head()"
   ]
  },
  {
   "cell_type": "code",
   "execution_count": null,
   "metadata": {},
   "outputs": [],
   "source": [
    "y = df['Yield (Quintal/ Hectare)']"
   ]
  },
  {
   "cell_type": "code",
   "execution_count": null,
   "metadata": {},
   "outputs": [],
   "source": [
    "from numpy import absolute\n",
    "from pandas import read_csv"
   ]
  },
  {
   "cell_type": "code",
   "execution_count": null,
   "metadata": {},
   "outputs": [],
   "source": [
    "from sklearn.model_selection import train_test_split\n",
    "X_train, X_test, y_train, y_test = train_test_split(X, y, test_size = 0.2, random_state = 0)"
   ]
  },
  {
   "cell_type": "code",
   "execution_count": null,
   "metadata": {},
   "outputs": [
    {
     "data": {
      "text/plain": [
       "XGBRegressor(base_score=0.5, booster='gbtree', callbacks=None,\n",
       "             colsample_bylevel=1, colsample_bynode=1, colsample_bytree=1,\n",
       "             early_stopping_rounds=None, enable_categorical=False,\n",
       "             eval_metric=None, gamma=0, gpu_id=-1, grow_policy='depthwise',\n",
       "             importance_type=None, interaction_constraints='',\n",
       "             learning_rate=0.300000012, max_bin=256, max_cat_to_onehot=4,\n",
       "             max_delta_step=0, max_depth=6, max_leaves=0, min_child_weight=1,\n",
       "             missing=nan, monotone_constraints='()', n_estimators=100, n_jobs=0,\n",
       "             num_parallel_tree=1, predictor='auto', random_state=0, reg_alpha=0,\n",
       "             reg_lambda=1, ...)"
      ]
     },
     "execution_count": 59,
     "metadata": {},
     "output_type": "execute_result"
    }
   ],
   "source": [
    "# define model\n",
    "from xgboost import XGBRegressor\n",
    "model = XGBRegressor()\n",
    "model.fit(X_train, y_train)"
   ]
  },
  {
   "cell_type": "code",
   "execution_count": null,
   "metadata": {},
   "outputs": [],
   "source": [
    "# Predict the model\n",
    "pred = model.predict(X_test)"
   ]
  },
  {
   "cell_type": "code",
   "execution_count": null,
   "metadata": {},
   "outputs": [],
   "source": [
    "# define model evaluation method\n",
    "from sklearn.model_selection import cross_val_score\n",
    "from sklearn.model_selection import RepeatedKFold\n",
    "cv = RepeatedKFold(n_splits=10, n_repeats=3, random_state=1)"
   ]
  },
  {
   "cell_type": "code",
   "execution_count": null,
   "metadata": {},
   "outputs": [
    {
     "name": "stdout",
     "output_type": "stream",
     "text": [
      "Mean MAE: 20.140 (24.830)\n",
      "0.8837209846619423\n"
     ]
    }
   ],
   "source": [
    "# evaluate model\n",
    "from sklearn.model_selection import cross_val_score\n",
    "from sklearn.model_selection import RepeatedKFold\n",
    "scores = cross_val_score(model, X, y, scoring='neg_mean_absolute_error', cv=cv, n_jobs=-1)\n",
    "\n",
    "# force scores to be positive\n",
    "scores = absolute(scores)\n",
    "print('Mean MAE: %.3f (%.3f)' % (scores.mean(), scores.std()) )\n",
    "\n",
    "from sklearn.metrics import r2_score\n",
    "r2 = r2_score(y_test,pred)\n",
    "print(r2)"
   ]
  },
  {
   "cell_type": "code",
   "execution_count": null,
   "metadata": {},
   "outputs": [
    {
     "data": {
      "text/plain": [
       "1947.1345494903296"
      ]
     },
     "execution_count": 73,
     "metadata": {},
     "output_type": "execute_result"
    }
   ],
   "source": [
    "from sklearn.metrics import mean_squared_error\n",
    "mse = mean_squared_error(y_test, pred)\n",
    "mse"
   ]
  },
  {
   "cell_type": "code",
   "execution_count": null,
   "metadata": {},
   "outputs": [
    {
     "data": {
      "text/plain": [
       "44.12634756571554"
      ]
     },
     "execution_count": 74,
     "metadata": {},
     "output_type": "execute_result"
    }
   ],
   "source": [
    "import numpy as np\n",
    "import math\n",
    "rmse = math.sqrt(mse)\n",
    "rmse"
   ]
  },
  {
   "cell_type": "markdown",
   "metadata": {},
   "source": [
    "We can clearly see that the model performance has significantly improved after applying XGboost Regression and Cross-Validation Technique"
   ]
  }
 ],
 "metadata": {
  "kernelspec": {
   "display_name": "Python 3",
   "language": "python",
   "name": "python3"
  },
  "language_info": {
   "codemirror_mode": {
    "name": "ipython",
    "version": 3
   },
   "file_extension": ".py",
   "mimetype": "text/x-python",
   "name": "python",
   "nbconvert_exporter": "python",
   "pygments_lexer": "ipython3",
   "version": "3.11.3"
  }
 },
 "nbformat": 4,
 "nbformat_minor": 2
}
